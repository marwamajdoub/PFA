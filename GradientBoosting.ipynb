{
 "cells": [
  {
   "cell_type": "code",
   "execution_count": 1,
   "metadata": {},
   "outputs": [],
   "source": [
    "import pandas as pd\n",
    "\n",
    "import numpy as np\n",
    "\n",
    "import matplotlib.pyplot as plt\n",
    "\n",
    "import seaborn as sns"
   ]
  },
  {
   "cell_type": "code",
   "execution_count": 2,
   "metadata": {},
   "outputs": [],
   "source": [
    "df = pd.read_csv('Concrete_Data - Sheet1.csv')\n"
   ]
  },
  {
   "cell_type": "code",
   "execution_count": 3,
   "metadata": {},
   "outputs": [],
   "source": [
    "# independent variables\n",
    "x = df.drop(['Concrete compressive strength'],axis=1)# we split data in supervised in output and input\n",
    "# dependent variables\n",
    "y = df['Concrete compressive strength']\n"
   ]
  },
  {
   "cell_type": "code",
   "execution_count": 4,
   "metadata": {},
   "outputs": [],
   "source": [
    "from sklearn.model_selection import train_test_split\n",
    "xtrain,xtest,ytrain,ytest= train_test_split(x,y,test_size=0.3,random_state=42)\n"
   ]
  },
  {
   "cell_type": "code",
   "execution_count": 5,
   "metadata": {},
   "outputs": [],
   "source": [
    "from sklearn.ensemble import GradientBoostingRegressor\n",
    "from sklearn.metrics import r2_score, mean_squared_error"
   ]
  },
  {
   "cell_type": "code",
   "execution_count": null,
   "metadata": {},
   "outputs": [
    {
     "name": "stdout",
     "output_type": "stream",
     "text": [
      "Gradient Boosting - R2 Score: 0.8918, RMSE: 5.4112\n"
     ]
    }
   ],
   "source": [
    "# Train Gradient Boosting Regressor\n",
    "gb = GradientBoostingRegressor(n_estimators=1500, learning_rate=0.1, max_depth=3, random_state=42)\n",
    "gb.fit(xtrain, ytrain)\n",
    "\n",
    "# Predictions\n",
    "y_pred_gb = gb.predict(xtest)\n",
    "\n",
    "# Evaluation\n",
    "r2 = r2_score(ytest, y_pred_gb)\n",
    "rmse = np.sqrt(mean_squared_error(ytest, y_pred_gb))\n",
    "\n",
    "print(f\"Gradient Boosting - R2 Score: {r2:.4f}, RMSE: {rmse:.4f}\")\n"
   ]
  },
  {
   "cell_type": "code",
   "execution_count": null,
   "metadata": {},
   "outputs": [
    {
     "ename": "NameError",
     "evalue": "name 'X_train' is not defined",
     "output_type": "error",
     "traceback": [
      "\u001b[1;31m---------------------------------------------------------------------------\u001b[0m",
      "\u001b[1;31mNameError\u001b[0m                                 Traceback (most recent call last)",
      "Cell \u001b[1;32mIn[12], line 5\u001b[0m\n\u001b[0;32m      2\u001b[0m \u001b[38;5;28;01mimport\u001b[39;00m \u001b[38;5;21;01mmatplotlib\u001b[39;00m\u001b[38;5;21;01m.\u001b[39;00m\u001b[38;5;21;01mpyplot\u001b[39;00m \u001b[38;5;28;01mas\u001b[39;00m \u001b[38;5;21;01mplt\u001b[39;00m\n\u001b[0;32m      4\u001b[0m \u001b[38;5;66;03m# Préparation des données\u001b[39;00m\n\u001b[1;32m----> 5\u001b[0m dtrain \u001b[38;5;241m=\u001b[39m xgb\u001b[38;5;241m.\u001b[39mDMatrix(X_train, label\u001b[38;5;241m=\u001b[39my_train)\n\u001b[0;32m      6\u001b[0m dtest \u001b[38;5;241m=\u001b[39m xgb\u001b[38;5;241m.\u001b[39mDMatrix(X_test, label\u001b[38;5;241m=\u001b[39my_test)\n\u001b[0;32m      8\u001b[0m \u001b[38;5;66;03m# Paramètres de l'entraînement\u001b[39;00m\n",
      "\u001b[1;31mNameError\u001b[0m: name 'X_train' is not defined"
     ]
    }
   ],
   "source": [
    "import xgboost as xgb\n",
    "import matplotlib.pyplot as plt\n",
    "\n",
    "# Préparation des données\n",
    "dtrain = xgb.DMatrix(xtrai, label=ytrain)\n",
    "dtest = xgb.DMatrix(xtest, label=ytest)\n",
    "\n",
    "# Paramètres de l'entraînement\n",
    "params = {\n",
    "    'objective': 'binary:logistic',  # Ou 'reg:squarederror' pour régression\n",
    "    'eval_metric': 'logloss',  # Vous pouvez utiliser d'autres métriques\n",
    "}\n",
    "\n",
    "# Liste pour surveiller l'évolution des performances\n",
    "evals = [(dtrain, 'train'), (dtest, 'eval')]\n",
    "\n",
    "# Entraînement du modèle avec suivi des performances\n",
    "num_round = 100\n",
    "bst = xgb.train(params, dtrain, num_round, evals=evals, evals_result=evals_result, early_stopping_rounds=10)\n",
    "\n",
    "# Affichage de la courbe d'apprentissage\n",
    "plt.plot(evals_result['train']['logloss'], label='train')\n",
    "plt.plot(evals_result['eval']['logloss'], label='test')\n",
    "plt.xlabel('Iteration')\n",
    "plt.ylabel('Logloss')\n",
    "plt.legend()\n",
    "plt.show()\n"
   ]
  },
  {
   "cell_type": "code",
   "execution_count": null,
   "metadata": {},
   "outputs": [],
   "source": []
  }
 ],
 "metadata": {
  "kernelspec": {
   "display_name": "base",
   "language": "python",
   "name": "python3"
  },
  "language_info": {
   "codemirror_mode": {
    "name": "ipython",
    "version": 3
   },
   "file_extension": ".py",
   "mimetype": "text/x-python",
   "name": "python",
   "nbconvert_exporter": "python",
   "pygments_lexer": "ipython3",
   "version": "3.12.3"
  }
 },
 "nbformat": 4,
 "nbformat_minor": 2
}
